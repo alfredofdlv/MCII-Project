{
 "cells": [
  {
   "cell_type": "markdown",
   "metadata": {
    "id": "JR85l6Y-M8YU"
   },
   "source": [
    "# **Machine Learning II: Deep learning classifiers for urban sound data**\n",
    "<img src=\"https://github.com/alfredofdlv/MCII-Project/blob/main_alfredo/images/portrait.png?raw=1\" alt=\"Portrait\" style=\"width:100%; height:auto;\">\n",
    "\n",
    "===================================================================================================================\n",
    "\n",
    "\n",
    "## **Introduction**\n",
    "Urban sound recognition is a crucial component in the development of intelligent systems for cities, supporting applications in public safety, environmental monitoring, and transportation. This project focuses on designing and evaluating deep learning classifiers for recognizing urban sounds using the UrbanSound8K dataset. This dataset contains audio samples across 10 classes commonly found in urban environments, such as \"siren,\" \"dog bark,\" and \"street music.\" To address the classification challenge, we implement two neural network architectures: a **Recurrent Neural Network (RNN)**, which leverages temporal patterns in audio data, and a **Convolutional Neural Network (CNN)**, which captures spatial features within spectrogram representations of audio. By comparing these models, we aim to identify which architecture is more effective in urban sound classification tasks, balancing accuracy, computational efficiency, and model complexity.\n",
    "\n",
    "\n",
    "### **Abstract**\n",
    "\n",
    "This project presents a deep learning approach for urban sound classification, utilizing the UrbanSound8K dataset to train and evaluate two neural network models: a Recurrent Neural Network (RNN) and a **Convolutional Neural Network (CNN)**. Our data preparation pipeline applies comprehensive preprocessing steps, including signal normalization and feature extraction, to transform raw audio signals into structured representations suitable for deep learning input. Model architectures are iteratively optimized through careful adjustment of layer configurations, activation functions, and hyperparameters to enhance performance.\n",
    "Training strategies incorporate fine-tuning of optimizers, regularization techniques, and a robust 10-fold cross-validation approach to ensure reliable generalization and mitigate overfitting. Model performance is evaluated using classification accuracy and a cumulative confusion matrix across folds, providing insight into each model’s ability to handle distinct sound classes.\n",
    "\n",
    "Training strategies included fine-tuning of optimizers and regularization techniques, alongside a robust **10-fold cross-validation** to assess generalization. Classification performance is evaluated based on accuracy and the confusion matrix across folds, providing insights into each model's strengths in handling distinct sound classes.\n",
    "\n",
    "### **Objective of the work**\n",
    "The primary objective of this project is to develop and assess the efficacy of two distinct neural network architectures—RNN and CNN—for urban sound classification. By conducting a comparative analysis, we aim to provide understanding of each model's performance, identifying the trade-offs in accuracy, computational demands, and architectural complexity.\n",
    "\n",
    "### **Structure of the work**\n",
    "The project is structured into the following sections:\n",
    "\n",
    "1. **Data Preparation**: This section outlines the steps taken to preprocess the UrbanSound8K dataset. It includes methods for converting audio data into suitable features for the RNN and CNN models, specifically focusing on Mel-Frequency Cepstral Coefficients (MFCCs) for the RNN, which capture temporal patterns, and spectrograms for the CNN, which enable spatial feature extraction.\n",
    "2. **Model Architectures**: A detailed description of the RNN and CNN models.\n",
    "    - *RNN Architecture*: Explores the sequential processing layers of the RNN and includes comparisons of different submodels like LSTM and GRU, which capture temporal dependencies in audio features.\n",
    "    - *CNN Architecture*: Describes the structure of the CNN model, emphasizing its ability to perform spatial feature extraction from spectrograms\n",
    "3. **Training Strategies**: This section discusses the training approaches used for both models, including optimizers, regularization techniques, and adjustments for each model architecture.\n",
    "4. **Evaluation Metrics**:  A description of the metrics used to evaluate model performance, including accuracy and confusion matrices.\n",
    "5. **Deep Fool Strategy**: This section describes the use of the DeepFool algorithm to evaluate the robustness of the trained models against adversarial perturbations.\n",
    "6. **Results and Discussion**: A presentation of the results obtained from the models, including accuracy and confusion matrix insights for each sound class, comparing the effectiveness of the RNN and CNN architectures."
   ]
  },
  {
   "cell_type": "markdown",
   "metadata": {
    "id": "IUaFrhhUM8YW"
   },
   "source": [
    "## **Data Preparation**"
   ]
  },
  {
   "cell_type": "code",
   "execution_count": 2,
   "metadata": {
    "id": "rWGFgWeFM8YW"
   },
   "outputs": [],
   "source": [
    "######## LIBRARIES ###############\n",
    "import soundata\n",
    "import librosa\n",
    "import numpy as np\n",
    "import pandas as pd\n",
    "import os\n",
    "import matplotlib.pyplot as plt\n",
    "from importlib import reload\n",
    "import utils\n",
    "import pickle\n",
    "import random\n",
    "from pathlib import Path\n",
    "from sklearn.preprocessing import StandardScaler\n"
   ]
  },
  {
   "cell_type": "markdown",
   "metadata": {
    "id": "DwcdqeEjM8YX"
   },
   "source": [
    "### **Importing the data**\n",
    "\n",
    "The UrbanSound8K Dataset contains 8,732 labeled sound clips (≤4 seconds each) spanning 10 urban sound classes: air conditioner, car horn, children playing, dog bark, drilling, engine idling, gun shot, jackhammer, siren, and street music. These classes represent a taxonomy of urban sounds, and each audio file is derived from field recordings uploaded to Freesound.org. Files are organized into ten predefined folds (fold1-fold10) for reproducibility and comparability of classification results.\n",
    "\n",
    "Via the `soundata` library, in addition to the audio files in WAV format, a CSV metadata file, *UrbanSound8k.csv*, is provided. Key metadata includes:\n",
    "\n",
    "- slice_file_name: Audio filename\n",
    "- fsID: Original Freesound ID.\n",
    "- start and end: Time range of the slice within the original recording.\n",
    "- salience: Subjective salience rating (1 = foreground, 2 = background).\n",
    "- fold: Predefined fold assignment (1-10).\n",
    "- classID: Numeric class identifier (0-9).\n",
    "- class: Name of the sound class.\n",
    "\n",
    "We will also perform EDA and data visualizations."
   ]
  },
  {
   "cell_type": "code",
   "execution_count": 13,
   "metadata": {
    "id": "r84iBjgAM8YX"
   },
   "outputs": [
    {
     "name": "stdout",
     "output_type": "stream",
     "text": [
      "      slice_file_name    fsID  start        end  salience  fold  classID  \\\n",
      "0    100032-3-0-0.wav  100032    0.0   0.317551         1     5        3   \n",
      "1  100263-2-0-117.wav  100263   58.5  62.500000         1     5        2   \n",
      "2  100263-2-0-121.wav  100263   60.5  64.500000         1     5        2   \n",
      "3  100263-2-0-126.wav  100263   63.0  67.000000         1     5        2   \n",
      "\n",
      "              class  \n",
      "0          dog_bark  \n",
      "1  children_playing  \n",
      "2  children_playing  \n",
      "3  children_playing  \n",
      "Dataset Info:\n",
      "<class 'pandas.core.frame.DataFrame'>\n",
      "RangeIndex: 8732 entries, 0 to 8731\n",
      "Data columns (total 8 columns):\n",
      " #   Column           Non-Null Count  Dtype  \n",
      "---  ------           --------------  -----  \n",
      " 0   slice_file_name  8732 non-null   object \n",
      " 1   fsID             8732 non-null   int64  \n",
      " 2   start            8732 non-null   float64\n",
      " 3   end              8732 non-null   float64\n",
      " 4   salience         8732 non-null   int64  \n",
      " 5   fold             8732 non-null   int64  \n",
      " 6   classID          8732 non-null   int64  \n",
      " 7   class            8732 non-null   object \n",
      "dtypes: float64(2), int64(4), object(2)\n",
      "memory usage: 545.9+ KB\n",
      "\n",
      "Checking for missing values:\n",
      "slice_file_name    0\n",
      "fsID               0\n",
      "start              0\n",
      "end                0\n",
      "salience           0\n",
      "fold               0\n",
      "classID            0\n",
      "class              0\n",
      "dtype: int64\n"
     ]
    }
   ],
   "source": [
    "import matplotlib.pyplot as plt\n",
    "import seaborn as sns\n",
    "\n",
    "DATA_DIR = r'D:\\Python_D\\DeepLearningAudios'\n",
    "dataset = soundata.initialize('urbansound8k', data_home = DATA_DIR)\n",
    "\n",
    "metadata = pd.read_csv(os.path.join(DATA_DIR,\"metadata\",\"UrbanSound8k.csv\"))\n",
    "print(metadata.head(4))\n",
    "\n",
    "# Display basic information\n",
    "print(\"Dataset Info:\")\n",
    "data.info()\n",
    "# Check for missing values\n",
    "print(\"\\nChecking for missing values:\")\n",
    "print(data.isnull().sum())\n"
   ]
  },
  {
   "cell_type": "code",
   "execution_count": null,
   "metadata": {},
   "outputs": [],
   "source": [
    "data = metadata\n",
    "\n",
    "\n",
    "# Create a figure with a grid of subplots\n",
    "plt.figure(figsize=(18, 10))\n",
    "\n",
    "# Plot 1: Distribution of Folds\n",
    "plt.subplot(2, 3, 1)\n",
    "sns.countplot(data=data, x='fold', palette='viridis')\n",
    "plt.title(\"Distribution of Folds\")\n",
    "plt.xlabel(\"Fold\")\n",
    "plt.ylabel(\"Count\")\n",
    "\n",
    "# Plot 2: Distribution of Classes\n",
    "plt.subplot(2, 3, 2)\n",
    "sns.countplot(data=data, x='class', order=data['class'].value_counts().index, palette='viridis')\n",
    "plt.xticks(rotation=45)\n",
    "plt.title(\"Distribution of Classes\")\n",
    "plt.xlabel(\"Class\")\n",
    "plt.ylabel(\"Count\")\n",
    "\n",
    "# Plot 3: Distribution of Salience Ratings\n",
    "plt.subplot(2, 3, 3)\n",
    "sns.countplot(data=data, x='salience', palette='viridis')\n",
    "plt.title(\"Distribution of Salience Ratings\")\n",
    "plt.xlabel(\"Salience (1=foreground, 2=background)\")\n",
    "plt.ylabel(\"Count\")\n",
    "\n",
    "# Plot 4: Histogram of Start Times\n",
    "plt.subplot(2, 2, 3)  # Adjusted for 2x2 grid starting from position 3\n",
    "sns.histplot(data['start'], kde=True, color='purple')\n",
    "plt.title(\"Distribution of Start Times\")\n",
    "plt.xlabel(\"Start Time (seconds)\")\n",
    "plt.ylabel(\"Frequency\")\n",
    "\n",
    "# Plot 5: Histogram of End Times\n",
    "plt.subplot(2, 2, 4)  # Position adjusted for the last plot\n",
    "sns.histplot(data['end'], kde=True, color='green')\n",
    "plt.title(\"Distribution of End Times\")\n",
    "plt.xlabel(\"End Time (seconds)\")\n",
    "plt.ylabel(\"Frequency\")\n",
    "\n",
    "# Adjust layout to prevent overlap and add space between rows\n",
    "plt.tight_layout()\n",
    "\n",
    "plt.show()\n"
   ]
  },
  {
   "cell_type": "markdown",
   "metadata": {},
   "source": [
    "![EDA](images/EDA1.png)"
   ]
  },
  {
   "cell_type": "markdown",
   "metadata": {},
   "source": [
    "In the dataset, as observed from the plots and summary statistics above, there are no missing data values. Additionally, the distribution of samples across the folds is relatively uniform, which supports balanced cross-validation. However, we do observe a class imbalance, particularly in the underrepresentation of the *car horn* and *gunshot* classes. Furthermore, a substantial portion of the data is labeled as foreground sounds, indicating that most audio samples have been annotated as prominent in the scene."
   ]
  },
  {
   "cell_type": "code",
   "execution_count": null,
   "metadata": {},
   "outputs": [],
   "source": [
    "\n",
    "# Agrupar datos por 'fold' y 'class' para contar el número de muestras\n",
    "fold_class_counts = data.groupby(['fold', 'class']).size().unstack(fill_value=0)\n",
    "\n",
    "# Configuración del gráfico de barras apiladas\n",
    "plt.figure(figsize=(12, 8))\n",
    "fold_class_counts.plot(\n",
    "    kind='bar', \n",
    "    stacked=True, \n",
    "    colormap='tab20', \n",
    "    width=0.8, \n",
    "    edgecolor='black',\n",
    "    ax=plt.gca()\n",
    ")\n",
    "\n",
    "# Añadir título y etiquetas a los ejes\n",
    "plt.title(\"Class Distribution Across Folds\", fontsize=16)\n",
    "plt.xlabel(\"Fold\", fontsize=14)\n",
    "plt.ylabel(\"Sample Count\", fontsize=14)\n",
    "\n",
    "# Añadir leyenda para identificar las clases\n",
    "plt.legend(title=\"Class\", bbox_to_anchor=(1.05, 1), loc='upper left', fontsize=10)\n",
    "plt.xticks(rotation=0)\n",
    "plt.grid(axis='y', linestyle='--', alpha=0.7)\n",
    "\n",
    "# Mostrar el gráfico\n",
    "plt.tight_layout()\n",
    "plt.show()"
   ]
  },
  {
   "cell_type": "markdown",
   "metadata": {},
   "source": [
    "![classdistracrossfold](images/class_distr_accross_folds.png)"
   ]
  },
  {
   "cell_type": "markdown",
   "metadata": {},
   "source": [
    "To evaluate whether the classes are similarly distributed across folds, we can perform a hypothesis test of independence. This test will determine if there is a significant association between the variables fold and class, indicating whether the class distributions vary across folds. Chi-square test of independence :\n",
    "\n",
    "- ($H_o$): The class distribution is the same across all folds (i.e., there is no association between fold and class).\n",
    "- ($H_1$): The class distribution is not the same across folds (there is an association between fold and class)."
   ]
  },
  {
   "cell_type": "code",
   "execution_count": 44,
   "metadata": {},
   "outputs": [
    {
     "name": "stdout",
     "output_type": "stream",
     "text": [
      "Chi-square: 192.2425218659076\n",
      "Degrees of freedom: 81\n",
      "P-value: 4.920225559810079e-11\n",
      "We reject the null hypothesis: the class distribution differs across folds.\n"
     ]
    }
   ],
   "source": [
    "import scipy.stats as stats\n",
    "\n",
    "contingency_table = pd.crosstab(data['fold'], data['class'])\n",
    "# Perform the Chi-square test of independence\n",
    "chi2, p, dof, expected = stats.chi2_contingency(contingency_table)\n",
    "print(\"Chi-square:\", chi2)\n",
    "print(\"Degrees of freedom:\", dof)\n",
    "print(\"P-value:\", p)\n",
    "# Interpret the result\n",
    "alpha = 0.05\n",
    "if p < alpha:\n",
    "    print(\"We reject the null hypothesis: the class distribution differs across folds.\")\n",
    "else:\n",
    "    print(\"We do not reject the null hypothesis: there is no significant evidence that the class distribution differs across folds.\")"
   ]
  },
  {
   "cell_type": "markdown",
   "metadata": {},
   "source": [
    "Since the p-value is extremely small, we have strong evidence to **reject the null hypothesis**. This means that the class distribution is not uniform across the folds. In other words, some folds may have an overrepresentation or underrepresentation of certain classes, which could affect the fairness of model evaluation.This class imbalance across folds can lead to skewed performance metrics, where certain folds may have an overrepresentation or underrepresentation of particular classes, impacting the model's ability to generalize effectively, as mentioned in the original paper of *Justin Salomon*."
   ]
  },
  {
   "cell_type": "markdown",
   "metadata": {
    "id": "9iB6ICSYM8YY"
   },
   "source": [
    "### **Feature Extraction**\n",
    "\n",
    "For our work with deep learning models, extracting relevant audio features is essential to ensure that the model receives inputs that can be effectively processed. Using `librosa`, a specialized library for audio analysis, we extract the following audio features:\n",
    "\n",
    "- **Waveform**: The waveform is a simple representation of sound that captures the amplitude of an audio signal over time. While basic, it provides essential insight into the raw dynamics of the audio signal.\n",
    "\n",
    "- **Zero Crossing Rate (ZCR)**: The Zero Crossing Rate measures how frequently the audio signal crosses the zero axis within a specified period. This feature is useful for detecting sudden changes in the signal's spectral characteristics, helping neural networks recognize phase shifts in the audio and facilitating more accurate pattern recognition.\n",
    "\n",
    "- **Root Mean Square Energy (RMSE)**: RMSE calculates the quadratic mean of the energy in each frame of the audio signal. It is particularly useful for understanding variations in volume and intensity over time.\n",
    "\n",
    "- **Mel-Frequency Cepstral Coefficients (MFCCs)**: MFCCs are derived from the spectrogram and are designed to model the human auditory system. These coefficients compress the audio data while preserving its most perceptually significant features, making them especially useful for tasks like speech and sound classification.\n",
    "\n",
    "- **Spectral Centroid**: The spectral centroid represents the weighted average of the frequencies in the spectrum of an audio signal. It indicates where the majority of the spectral energy is concentrated, which correlates with the perceived brightness of the sound.\n",
    "\n",
    "- **Spectral Bandwidth**: This feature measures the width of the frequency spectrum around the spectral centroid. It is helpful for distinguishing between complex sounds, such as noise, and more tonal sounds with a clear harmonic structure.\n",
    "\n",
    "- **Spectral Rolloff**: Spectral rolloff marks the frequency below which a specified portion of the total spectral energy (typically 85%) is contained. This feature is valuable for distinguishing between sharp, sudden sounds and steady, continuous ones, aiding in the classification of different types of audio events.\n",
    "\n",
    "- **Spectrogram**: A spectrogram is a visual representation that shows how the frequency components of an audio signal evolve over time. It displays changes in the frequency structure, making it an important tool for analyzing the temporal dynamics of sound.\n",
    "\n",
    "\n"
   ]
  },
  {
   "cell_type": "code",
   "execution_count": null,
   "metadata": {
    "id": "oy8I3goFM8YY"
   },
   "outputs": [],
   "source": [
    "\n",
    "# Define the path to your audio file\n",
    "dir_audio_example = os.path.join(DATA_DIR, \"audio\", \"fold5\", \"100032-3-0-0.wav\")\n",
    "\n",
    "# Load the audio file\n",
    "y, sr = librosa.load(dir_audio_example)\n",
    "\n",
    "# Create a figure for plotting\n",
    "plt.figure(figsize=(14, 12))\n",
    "\n",
    "# **Waveform** - Display the audio waveform\n",
    "plt.subplot(4, 3, 1)  # 4 rows, 3 columns, first subplot\n",
    "librosa.display.waveshow(y, sr=sr)\n",
    "plt.title('Waveform')\n",
    "\n",
    "# **Zero Crossing Rate (ZCR)** - Compute and plot the zero crossing rate\n",
    "zero_crossing_rate = librosa.feature.zero_crossing_rate(y=y).T\n",
    "plt.subplot(4, 3, 2)  # 4 rows, 3 columns, second subplot\n",
    "plt.plot(zero_crossing_rate)\n",
    "plt.title('Zero Crossing Rate (ZCR)')\n",
    "\n",
    "# **Root Mean Square Energy (RMSE)** - Compute and plot the root mean square energy\n",
    "root_mean_square_energy = librosa.feature.rms(y=y).T\n",
    "plt.subplot(4, 3, 3)  # 4 rows, 3 columns, third subplot\n",
    "plt.plot(root_mean_square_energy)\n",
    "plt.title('Root Mean Square Energy (RMSE)')\n",
    "\n",
    "# **MFCC** - Compute and plot MFCCs\n",
    "mfccs = librosa.feature.mfcc(y=y, sr=sr, n_mfcc=13).T\n",
    "plt.subplot(4, 3, 4)  # 4 rows, 3 columns, fourth subplot\n",
    "librosa.display.specshow(mfccs.T, x_axis='time')\n",
    "plt.colorbar()\n",
    "plt.title('MFCCs')\n",
    "\n",
    "# **Spectral Centroid** - Compute and plot the spectral centroid\n",
    "spectral_centroid = librosa.feature.spectral_centroid(y=y, sr=sr).T\n",
    "plt.subplot(4, 3, 5)  # 4 rows, 3 columns, fifth subplot\n",
    "plt.plot(spectral_centroid)\n",
    "plt.title('Spectral Centroid')\n",
    "\n",
    "# **Spectral Bandwidth** - Compute and plot the spectral bandwidth\n",
    "spectral_bandwidth = librosa.feature.spectral_bandwidth(y=y, sr=sr).T\n",
    "plt.subplot(4, 3, 6)  # 4 rows, 3 columns, sixth subplot\n",
    "plt.plot(spectral_bandwidth)\n",
    "plt.title('Spectral Bandwidth')\n",
    "\n",
    "# **Spectral Contrast** - Compute and plot the spectral contrast\n",
    "spectral_contrast = librosa.feature.spectral_contrast(y=y, sr=sr, fmin=200.0, n_bands=6).T\n",
    "plt.subplot(4, 3, 7)  # 4 rows, 3 columns, seventh subplot\n",
    "librosa.display.specshow(spectral_contrast.T, x_axis='time')\n",
    "plt.colorbar()\n",
    "plt.title('Spectral Contrast')\n",
    "\n",
    "# **Spectral Rolloff** - Compute and plot the spectral rolloff\n",
    "spectral_rolloff = librosa.feature.spectral_rolloff(y=y, sr=sr).T\n",
    "plt.subplot(4, 3, 8)  # 4 rows, 3 columns, eighth subplot\n",
    "plt.plot(spectral_rolloff)\n",
    "plt.title('Spectral Rolloff')\n",
    "\n",
    "# **Mel Spectrogram** - Compute and plot the mel-scaled spectrogram\n",
    "mel_spectrogram = librosa.feature.melspectrogram(y=y, sr=sr, n_mels=128, fmax=8000).T\n",
    "mel_spectrogram_db = librosa.power_to_db(mel_spectrogram, ref=np.max)\n",
    "plt.subplot(4, 3, 9)  # 4 rows, 3 columns, ninth subplot\n",
    "librosa.display.specshow(mel_spectrogram_db.T, sr=sr, x_axis='time', y_axis='mel')\n",
    "plt.colorbar(format='%+2.0f dB')\n",
    "plt.title('Mel Spectrogram')\n",
    "\n",
    "# Show all the plots\n",
    "plt.tight_layout()\n",
    "plt.show()"
   ]
  },
  {
   "cell_type": "markdown",
   "metadata": {},
   "source": [
    "![audio_repre](images/audios_representations.png)"
   ]
  },
  {
   "cell_type": "markdown",
   "metadata": {
    "id": "n5SgTWINM8YY"
   },
   "source": [
    "After the feature extraction, we sample randomly which folds will be for train and test. And finally we will create the dataset, splitted by train, test and features and labels. We will save the dataset in a pickle file facilitating importing the data."
   ]
  },
  {
   "cell_type": "code",
   "execution_count": 55,
   "metadata": {
    "id": "6K3FGZ83M8YY"
   },
   "outputs": [],
   "source": [
    "# reload(utils)\n",
    "# from utils import generate_train_set,create_dataset\n",
    "# print(data.columns)\n",
    "# train, test=generate_train_set(8)\n",
    "# dir_audio=os.path.join(directory,\"audio\")\n",
    "# X_train,X_test,y_train,y_test=create_dataset(dir_audio,data,train,test)\n",
    "\n",
    "# # Guardar todas las características y etiquetas en un archivoc\n",
    "# with open(\"preprocessed_data.pkl\", \"wb\") as f:\n",
    "#     pickle.dump({\n",
    "#         \"X_train\": X_train,\n",
    "#         \"X_test\": X_test,\n",
    "#         \"y_train\": y_train,\n",
    "#         \"y_test\": y_test\n",
    "#     }, f)"
   ]
  },
  {
   "cell_type": "code",
   "execution_count": 3,
   "metadata": {
    "id": "tuT650i6M8YY"
   },
   "outputs": [],
   "source": [
    "# Cargar los datos preprocesados desde el archivo\n",
    "with open(\"preprocessed_data.pkl\", \"rb\") as f:\n",
    "    new_data = pickle.load(f)\n",
    "\n",
    "X_train = new_data[\"X_train\"]\n",
    "X_test = new_data[\"X_test\"]\n",
    "y_train = new_data[\"y_train\"]\n",
    "y_test = new_data[\"y_test\"]"
   ]
  },
  {
   "cell_type": "markdown",
   "metadata": {
    "id": "Bghu_U6SM8YZ"
   },
   "source": [
    "# **Model Architectures**\n",
    "## Recurrent Neural Networks"
   ]
  },
  {
   "cell_type": "markdown",
   "metadata": {
    "id": "-UFT4HgXM8YZ"
   },
   "source": [
    "****Recurrent Neural Networks (RNNs)**** is a type of neural network architecture designed to model sequential data, with the use of feedback loops it allows information to persist across time steps, helping retaining information about past dependencies. In traditional neural networks, th input and output layers were connected in a feed-forward manner, meaning information flew one way, from input to output, with no feedback.\n",
    "\n",
    "In RNNs this is not the case, as it incorporates ****cyclic connections**** that enables continuous information flow throughout each step of the sequence. This structure allows the RNNs to capture and model temporal and contextual relationships over time effectively.\n",
    "\n"
   ]
  },
  {
   "cell_type": "code",
   "execution_count": 4,
   "metadata": {
    "colab": {
     "base_uri": "https://localhost:8080/",
     "height": 581
    },
    "id": "1j3HIx73M8YZ",
    "outputId": "3245e108-d087-4dfc-e63f-aba98d66af46"
   },
   "outputs": [
    {
     "name": "stdout",
     "output_type": "stream",
     "text": [
      "155.41842445114077\n"
     ]
    },
    {
     "data": {
      "image/png": "[encoded data removed]",
      "text/plain": [
       "<Figure size 1000x600 with 1 Axes>"
      ]
     },
     "metadata": {},
     "output_type": "display_data"
    }
   ],
   "source": [
    "sequence_lengths = [len(seq) for seq in X_train]\n",
    "print(np.mean(sequence_lengths))\n",
    "# Graficar la distribución de longitudes de las secuencias\n",
    "plt.figure(figsize=(10, 6))\n",
    "plt.hist(sequence_lengths, bins=20, color='skyblue', edgecolor='black')\n",
    "plt.title('Distribuction of the length of the frequencies in X_train')\n",
    "plt.xlabel('Length')\n",
    "plt.ylabel('Number')\n",
    "plt.show()\n"
   ]
  },
  {
   "cell_type": "code",
   "execution_count": 5,
   "metadata": {
    "colab": {
     "base_uri": "https://localhost:8080/",
     "height": 612
    },
    "id": "046kaHyOM8YZ",
    "outputId": "7e99d46c-77d2-4a13-b44c-200237702827"
   },
   "outputs": [
    {
     "name": "stderr",
     "output_type": "stream",
     "text": [
      "d:\\Python_D\\DeepLearningAudios\\MCII-Project\\.venv\\lib\\site-packages\\sklearn\\preprocessing\\_label.py:114: DataConversionWarning: A column-vector y was passed when a 1d array was expected. Please change the shape of y to (n_samples, ), for example using ravel().\n",
      "  y = column_or_1d(y, warn=True)\n",
      "d:\\Python_D\\DeepLearningAudios\\MCII-Project\\.venv\\lib\\site-packages\\sklearn\\preprocessing\\_label.py:132: DataConversionWarning: A column-vector y was passed when a 1d array was expected. Please change the shape of y to (n_samples, ), for example using ravel().\n",
      "  y = column_or_1d(y, dtype=self.classes_.dtype, warn=True)\n"
     ]
    },
    {
     "name": "stdout",
     "output_type": "stream",
     "text": [
      "Clases: ['air_conditioner' 'car_horn' 'children_playing' 'dog_bark' 'drilling'\n",
      " 'engine_idling' 'gun_shot' 'jackhammer' 'siren' 'street_music']\n",
      "(6969, 174, 153)\n"
     ]
    },
    {
     "data": {
      "image/png": "[encoded data removed]",
      "text/plain": [
       "<Figure size 640x480 with 1 Axes>"
      ]
     },
     "metadata": {},
     "output_type": "display_data"
    },
    {
     "name": "stdout",
     "output_type": "stream",
     "text": [
      "Forma de X_train después de padding: (6969, 174, 153)\n",
      "Forma de X_test después de padding: (1763, 174, 153)\n"
     ]
    }
   ],
   "source": [
    "from sklearn.preprocessing import LabelEncoder\n",
    "from tensorflow.keras.preprocessing.sequence import pad_sequences\n",
    "from tensorflow.keras.utils import to_categorical\n",
    "\n",
    "# Crear el codificador de etiquetas\n",
    "label_encoder = LabelEncoder()\n",
    "\n",
    "# Ajustar y transformar las etiquetas de entrenamiento\n",
    "y_train_numeric = label_encoder.fit_transform(y_train)\n",
    "\n",
    "# Transformar las etiquetas de prueba usando el mismo codificador\n",
    "y_test_numeric = label_encoder.transform(y_test)\n",
    "\n",
    "# Imprimir las clases asignadas\n",
    "print(\"Clases:\", label_encoder.classes_)\n",
    "\n",
    "# Definir la longitud máxima deseada (por ejemplo, el máximo de tus secuencias o una longitud específica)\n",
    "max_timesteps = max(sequence_lengths)  # Ajusta este valor según la longitud máxima de tus secuencias\n",
    "\n",
    "# Aplicar padding\n",
    "X_train_padded = pad_sequences(X_train, maxlen=max_timesteps, padding='post', dtype='float32')\n",
    "X_test_padded = pad_sequences(X_test, maxlen=max_timesteps, padding='post', dtype='float32')\n",
    "\n",
    "print(X_train_padded.shape)\n",
    "plt.hist(X_train_padded[:, 0, 4], bins=20)  # Selecciona una característica para visualizar\n",
    "plt.title('Distribución después del escalamiento')\n",
    "plt.show()\n",
    "\n",
    "# Verificar las dimensiones de los datos después del padding\n",
    "print(\"Forma de X_train después de padding:\", X_train_padded.shape)\n",
    "print(\"Forma de X_test después de padding:\", X_test_padded.shape)\n",
    "\n",
    "num_classes = len(np.unique(y_train))\n",
    "\n",
    "# Convertir etiquetas de y_train y y_test a one-hot encoding\n",
    "y_train = to_categorical(y_train_numeric, num_classes=num_classes)\n",
    "y_test = to_categorical(y_test_numeric, num_classes=num_classes)\n"
   ]
  },
  {
   "cell_type": "code",
   "execution_count": null,
   "metadata": {
    "colab": {
     "base_uri": "https://localhost:8080/",
     "height": 512
    },
    "id": "KMpjG1LBM8YZ",
    "outputId": "12ff1cf1-4f13-4deb-e1c9-47b135d648c4"
   },
   "outputs": [
    {
     "name": "stdout",
     "output_type": "stream",
     "text": [
      "Entrenando en GPU: NVIDIA GeForce RTX 3060\n"
     ]
    },
    {
     "ename": "RuntimeError",
     "evalue": "input.size(-1) must be equal to input_size. Expected 64, got 32",
     "output_type": "error",
     "traceback": [
      "\u001b[1;31m---------------------------------------------------------------------------\u001b[0m",
      "\u001b[1;31mRuntimeError\u001b[0m                              Traceback (most recent call last)",
      "Cell \u001b[1;32mIn[7], line 131\u001b[0m\n\u001b[0;32m    127\u001b[0m     \u001b[38;5;28;01mreturn\u001b[39;00m (train_losses, valid_losses, train_accuracies, train_f1_scores, train_recalls,\n\u001b[0;32m    128\u001b[0m             valid_accuracies, valid_f1_scores, valid_recalls)\n\u001b[0;32m    130\u001b[0m \u001b[38;5;66;03m# Entrenar el modelo\u001b[39;00m\n\u001b[1;32m--> 131\u001b[0m train_losses, valid_losses, train_accuracies, train_f1_scores, train_recalls, valid_accuracies, valid_f1_scores, valid_recalls \u001b[38;5;241m=\u001b[39m \u001b[43mtrain_model\u001b[49m\u001b[43m(\u001b[49m\n\u001b[0;32m    132\u001b[0m \u001b[43m    \u001b[49m\u001b[43mmodel\u001b[49m\u001b[43m,\u001b[49m\u001b[43m \u001b[49m\u001b[43mtrain_loader\u001b[49m\u001b[43m,\u001b[49m\u001b[43m \u001b[49m\u001b[43mcriterion\u001b[49m\u001b[43m,\u001b[49m\u001b[43m \u001b[49m\u001b[43moptimizer\u001b[49m\u001b[43m,\u001b[49m\u001b[43m \u001b[49m\u001b[43mepochs\u001b[49m\u001b[38;5;241;43m=\u001b[39;49m\u001b[38;5;241;43m20\u001b[39;49m\u001b[43m)\u001b[49m\n\u001b[0;32m    134\u001b[0m \u001b[38;5;66;03m# Graficar las métricas\u001b[39;00m\n\u001b[0;32m    135\u001b[0m epochs_range \u001b[38;5;241m=\u001b[39m \u001b[38;5;28mrange\u001b[39m(\u001b[38;5;241m1\u001b[39m, \u001b[38;5;241m21\u001b[39m)\n",
      "Cell \u001b[1;32mIn[7], line 76\u001b[0m, in \u001b[0;36mtrain_model\u001b[1;34m(model, train_loader, criterion, optimizer, epochs)\u001b[0m\n\u001b[0;32m     74\u001b[0m inputs, labels \u001b[38;5;241m=\u001b[39m inputs\u001b[38;5;241m.\u001b[39mto(device), labels\u001b[38;5;241m.\u001b[39mto(device)\n\u001b[0;32m     75\u001b[0m optimizer\u001b[38;5;241m.\u001b[39mzero_grad()\n\u001b[1;32m---> 76\u001b[0m outputs \u001b[38;5;241m=\u001b[39m \u001b[43mmodel\u001b[49m\u001b[43m(\u001b[49m\u001b[43minputs\u001b[49m\u001b[43m)\u001b[49m\n\u001b[0;32m     77\u001b[0m loss \u001b[38;5;241m=\u001b[39m criterion(outputs, labels)\n\u001b[0;32m     78\u001b[0m loss\u001b[38;5;241m.\u001b[39mbackward()\n",
      "File \u001b[1;32md:\\Python_D\\DeepLearningAudios\\MCII-Project\\.venv\\lib\\site-packages\\torch\\nn\\modules\\module.py:1532\u001b[0m, in \u001b[0;36mModule._wrapped_call_impl\u001b[1;34m(self, *args, **kwargs)\u001b[0m\n\u001b[0;32m   1530\u001b[0m     \u001b[38;5;28;01mreturn\u001b[39;00m \u001b[38;5;28mself\u001b[39m\u001b[38;5;241m.\u001b[39m_compiled_call_impl(\u001b[38;5;241m*\u001b[39margs, \u001b[38;5;241m*\u001b[39m\u001b[38;5;241m*\u001b[39mkwargs)  \u001b[38;5;66;03m# type: ignore[misc]\u001b[39;00m\n\u001b[0;32m   1531\u001b[0m \u001b[38;5;28;01melse\u001b[39;00m:\n\u001b[1;32m-> 1532\u001b[0m     \u001b[38;5;28;01mreturn\u001b[39;00m \u001b[38;5;28mself\u001b[39m\u001b[38;5;241m.\u001b[39m_call_impl(\u001b[38;5;241m*\u001b[39margs, \u001b[38;5;241m*\u001b[39m\u001b[38;5;241m*\u001b[39mkwargs)\n",
      "File \u001b[1;32md:\\Python_D\\DeepLearningAudios\\MCII-Project\\.venv\\lib\\site-packages\\torch\\nn\\modules\\module.py:1541\u001b[0m, in \u001b[0;36mModule._call_impl\u001b[1;34m(self, *args, **kwargs)\u001b[0m\n\u001b[0;32m   1536\u001b[0m \u001b[38;5;66;03m# If we don't have any hooks, we want to skip the rest of the logic in\u001b[39;00m\n\u001b[0;32m   1537\u001b[0m \u001b[38;5;66;03m# this function, and just call forward.\u001b[39;00m\n\u001b[0;32m   1538\u001b[0m \u001b[38;5;28;01mif\u001b[39;00m \u001b[38;5;129;01mnot\u001b[39;00m (\u001b[38;5;28mself\u001b[39m\u001b[38;5;241m.\u001b[39m_backward_hooks \u001b[38;5;129;01mor\u001b[39;00m \u001b[38;5;28mself\u001b[39m\u001b[38;5;241m.\u001b[39m_backward_pre_hooks \u001b[38;5;129;01mor\u001b[39;00m \u001b[38;5;28mself\u001b[39m\u001b[38;5;241m.\u001b[39m_forward_hooks \u001b[38;5;129;01mor\u001b[39;00m \u001b[38;5;28mself\u001b[39m\u001b[38;5;241m.\u001b[39m_forward_pre_hooks\n\u001b[0;32m   1539\u001b[0m         \u001b[38;5;129;01mor\u001b[39;00m _global_backward_pre_hooks \u001b[38;5;129;01mor\u001b[39;00m _global_backward_hooks\n\u001b[0;32m   1540\u001b[0m         \u001b[38;5;129;01mor\u001b[39;00m _global_forward_hooks \u001b[38;5;129;01mor\u001b[39;00m _global_forward_pre_hooks):\n\u001b[1;32m-> 1541\u001b[0m     \u001b[38;5;28;01mreturn\u001b[39;00m forward_call(\u001b[38;5;241m*\u001b[39margs, \u001b[38;5;241m*\u001b[39m\u001b[38;5;241m*\u001b[39mkwargs)\n\u001b[0;32m   1543\u001b[0m \u001b[38;5;28;01mtry\u001b[39;00m:\n\u001b[0;32m   1544\u001b[0m     result \u001b[38;5;241m=\u001b[39m \u001b[38;5;28;01mNone\u001b[39;00m\n",
      "File \u001b[1;32md:\\Python_D\\DeepLearningAudios\\MCII-Project\\models.py:28\u001b[0m, in \u001b[0;36mComplexLSTMModel.forward\u001b[1;34m(self, x)\u001b[0m\n\u001b[0;32m     26\u001b[0m x, _ \u001b[38;5;241m=\u001b[39m \u001b[38;5;28mself\u001b[39m\u001b[38;5;241m.\u001b[39mlstm1(x)\n\u001b[0;32m     27\u001b[0m x, _ \u001b[38;5;241m=\u001b[39m \u001b[38;5;28mself\u001b[39m\u001b[38;5;241m.\u001b[39mlstm2(x)\n\u001b[1;32m---> 28\u001b[0m x, _ \u001b[38;5;241m=\u001b[39m \u001b[38;5;28;43mself\u001b[39;49m\u001b[38;5;241;43m.\u001b[39;49m\u001b[43mlstm3\u001b[49m\u001b[43m(\u001b[49m\u001b[43mx\u001b[49m\u001b[43m)\u001b[49m\n\u001b[0;32m     30\u001b[0m \u001b[38;5;66;03m# Usamos la última salida de la secuencia\u001b[39;00m\n\u001b[0;32m     31\u001b[0m x \u001b[38;5;241m=\u001b[39m \u001b[38;5;28mself\u001b[39m\u001b[38;5;241m.\u001b[39mbatchnorm(x[:, \u001b[38;5;241m-\u001b[39m\u001b[38;5;241m1\u001b[39m, :])  \u001b[38;5;66;03m# Normalización por lotes\u001b[39;00m\n",
      "File \u001b[1;32md:\\Python_D\\DeepLearningAudios\\MCII-Project\\.venv\\lib\\site-packages\\torch\\nn\\modules\\module.py:1532\u001b[0m, in \u001b[0;36mModule._wrapped_call_impl\u001b[1;34m(self, *args, **kwargs)\u001b[0m\n\u001b[0;32m   1530\u001b[0m     \u001b[38;5;28;01mreturn\u001b[39;00m \u001b[38;5;28mself\u001b[39m\u001b[38;5;241m.\u001b[39m_compiled_call_impl(\u001b[38;5;241m*\u001b[39margs, \u001b[38;5;241m*\u001b[39m\u001b[38;5;241m*\u001b[39mkwargs)  \u001b[38;5;66;03m# type: ignore[misc]\u001b[39;00m\n\u001b[0;32m   1531\u001b[0m \u001b[38;5;28;01melse\u001b[39;00m:\n\u001b[1;32m-> 1532\u001b[0m     \u001b[38;5;28;01mreturn\u001b[39;00m \u001b[38;5;28mself\u001b[39m\u001b[38;5;241m.\u001b[39m_call_impl(\u001b[38;5;241m*\u001b[39margs, \u001b[38;5;241m*\u001b[39m\u001b[38;5;241m*\u001b[39mkwargs)\n",
      "File \u001b[1;32md:\\Python_D\\DeepLearningAudios\\MCII-Project\\.venv\\lib\\site-packages\\torch\\nn\\modules\\module.py:1541\u001b[0m, in \u001b[0;36mModule._call_impl\u001b[1;34m(self, *args, **kwargs)\u001b[0m\n\u001b[0;32m   1536\u001b[0m \u001b[38;5;66;03m# If we don't have any hooks, we want to skip the rest of the logic in\u001b[39;00m\n\u001b[0;32m   1537\u001b[0m \u001b[38;5;66;03m# this function, and just call forward.\u001b[39;00m\n\u001b[0;32m   1538\u001b[0m \u001b[38;5;28;01mif\u001b[39;00m \u001b[38;5;129;01mnot\u001b[39;00m (\u001b[38;5;28mself\u001b[39m\u001b[38;5;241m.\u001b[39m_backward_hooks \u001b[38;5;129;01mor\u001b[39;00m \u001b[38;5;28mself\u001b[39m\u001b[38;5;241m.\u001b[39m_backward_pre_hooks \u001b[38;5;129;01mor\u001b[39;00m \u001b[38;5;28mself\u001b[39m\u001b[38;5;241m.\u001b[39m_forward_hooks \u001b[38;5;129;01mor\u001b[39;00m \u001b[38;5;28mself\u001b[39m\u001b[38;5;241m.\u001b[39m_forward_pre_hooks\n\u001b[0;32m   1539\u001b[0m         \u001b[38;5;129;01mor\u001b[39;00m _global_backward_pre_hooks \u001b[38;5;129;01mor\u001b[39;00m _global_backward_hooks\n\u001b[0;32m   1540\u001b[0m         \u001b[38;5;129;01mor\u001b[39;00m _global_forward_hooks \u001b[38;5;129;01mor\u001b[39;00m _global_forward_pre_hooks):\n\u001b[1;32m-> 1541\u001b[0m     \u001b[38;5;28;01mreturn\u001b[39;00m forward_call(\u001b[38;5;241m*\u001b[39margs, \u001b[38;5;241m*\u001b[39m\u001b[38;5;241m*\u001b[39mkwargs)\n\u001b[0;32m   1543\u001b[0m \u001b[38;5;28;01mtry\u001b[39;00m:\n\u001b[0;32m   1544\u001b[0m     result \u001b[38;5;241m=\u001b[39m \u001b[38;5;28;01mNone\u001b[39;00m\n",
      "File \u001b[1;32md:\\Python_D\\DeepLearningAudios\\MCII-Project\\.venv\\lib\\site-packages\\torch\\nn\\modules\\rnn.py:892\u001b[0m, in \u001b[0;36mLSTM.forward\u001b[1;34m(self, input, hx)\u001b[0m\n\u001b[0;32m    888\u001b[0m     c_zeros \u001b[38;5;241m=\u001b[39m torch\u001b[38;5;241m.\u001b[39mzeros(\u001b[38;5;28mself\u001b[39m\u001b[38;5;241m.\u001b[39mnum_layers \u001b[38;5;241m*\u001b[39m num_directions,\n\u001b[0;32m    889\u001b[0m                           max_batch_size, \u001b[38;5;28mself\u001b[39m\u001b[38;5;241m.\u001b[39mhidden_size,\n\u001b[0;32m    890\u001b[0m                           dtype\u001b[38;5;241m=\u001b[39m\u001b[38;5;28minput\u001b[39m\u001b[38;5;241m.\u001b[39mdtype, device\u001b[38;5;241m=\u001b[39m\u001b[38;5;28minput\u001b[39m\u001b[38;5;241m.\u001b[39mdevice)\n\u001b[0;32m    891\u001b[0m     hx \u001b[38;5;241m=\u001b[39m (h_zeros, c_zeros)\n\u001b[1;32m--> 892\u001b[0m     \u001b[38;5;28;43mself\u001b[39;49m\u001b[38;5;241;43m.\u001b[39;49m\u001b[43mcheck_forward_args\u001b[49m\u001b[43m(\u001b[49m\u001b[38;5;28;43minput\u001b[39;49m\u001b[43m,\u001b[49m\u001b[43m \u001b[49m\u001b[43mhx\u001b[49m\u001b[43m,\u001b[49m\u001b[43m \u001b[49m\u001b[43mbatch_sizes\u001b[49m\u001b[43m)\u001b[49m\n\u001b[0;32m    893\u001b[0m \u001b[38;5;28;01melse\u001b[39;00m:\n\u001b[0;32m    894\u001b[0m     \u001b[38;5;28;01mif\u001b[39;00m is_batched:\n",
      "File \u001b[1;32md:\\Python_D\\DeepLearningAudios\\MCII-Project\\.venv\\lib\\site-packages\\torch\\nn\\modules\\rnn.py:821\u001b[0m, in \u001b[0;36mLSTM.check_forward_args\u001b[1;34m(self, input, hidden, batch_sizes)\u001b[0m\n\u001b[0;32m    816\u001b[0m \u001b[38;5;28;01mdef\u001b[39;00m \u001b[38;5;21mcheck_forward_args\u001b[39m(\u001b[38;5;28mself\u001b[39m,  \u001b[38;5;66;03m# type: ignore[override]\u001b[39;00m\n\u001b[0;32m    817\u001b[0m                        \u001b[38;5;28minput\u001b[39m: Tensor,\n\u001b[0;32m    818\u001b[0m                        hidden: Tuple[Tensor, Tensor],\n\u001b[0;32m    819\u001b[0m                        batch_sizes: Optional[Tensor],\n\u001b[0;32m    820\u001b[0m                        ):\n\u001b[1;32m--> 821\u001b[0m     \u001b[38;5;28;43mself\u001b[39;49m\u001b[38;5;241;43m.\u001b[39;49m\u001b[43mcheck_input\u001b[49m\u001b[43m(\u001b[49m\u001b[38;5;28;43minput\u001b[39;49m\u001b[43m,\u001b[49m\u001b[43m \u001b[49m\u001b[43mbatch_sizes\u001b[49m\u001b[43m)\u001b[49m\n\u001b[0;32m    822\u001b[0m     \u001b[38;5;28mself\u001b[39m\u001b[38;5;241m.\u001b[39mcheck_hidden_size(hidden[\u001b[38;5;241m0\u001b[39m], \u001b[38;5;28mself\u001b[39m\u001b[38;5;241m.\u001b[39mget_expected_hidden_size(\u001b[38;5;28minput\u001b[39m, batch_sizes),\n\u001b[0;32m    823\u001b[0m                            \u001b[38;5;124m'\u001b[39m\u001b[38;5;124mExpected hidden[0] size \u001b[39m\u001b[38;5;132;01m{}\u001b[39;00m\u001b[38;5;124m, got \u001b[39m\u001b[38;5;132;01m{}\u001b[39;00m\u001b[38;5;124m'\u001b[39m)\n\u001b[0;32m    824\u001b[0m     \u001b[38;5;28mself\u001b[39m\u001b[38;5;241m.\u001b[39mcheck_hidden_size(hidden[\u001b[38;5;241m1\u001b[39m], \u001b[38;5;28mself\u001b[39m\u001b[38;5;241m.\u001b[39mget_expected_cell_size(\u001b[38;5;28minput\u001b[39m, batch_sizes),\n\u001b[0;32m    825\u001b[0m                            \u001b[38;5;124m'\u001b[39m\u001b[38;5;124mExpected hidden[1] size \u001b[39m\u001b[38;5;132;01m{}\u001b[39;00m\u001b[38;5;124m, got \u001b[39m\u001b[38;5;132;01m{}\u001b[39;00m\u001b[38;5;124m'\u001b[39m)\n",
      "File \u001b[1;32md:\\Python_D\\DeepLearningAudios\\MCII-Project\\.venv\\lib\\site-packages\\torch\\nn\\modules\\rnn.py:240\u001b[0m, in \u001b[0;36mRNNBase.check_input\u001b[1;34m(self, input, batch_sizes)\u001b[0m\n\u001b[0;32m    237\u001b[0m     \u001b[38;5;28;01mraise\u001b[39;00m \u001b[38;5;167;01mRuntimeError\u001b[39;00m(\n\u001b[0;32m    238\u001b[0m         \u001b[38;5;124mf\u001b[39m\u001b[38;5;124m'\u001b[39m\u001b[38;5;124minput must have \u001b[39m\u001b[38;5;132;01m{\u001b[39;00mexpected_input_dim\u001b[38;5;132;01m}\u001b[39;00m\u001b[38;5;124m dimensions, got \u001b[39m\u001b[38;5;132;01m{\u001b[39;00m\u001b[38;5;28minput\u001b[39m\u001b[38;5;241m.\u001b[39mdim()\u001b[38;5;132;01m}\u001b[39;00m\u001b[38;5;124m'\u001b[39m)\n\u001b[0;32m    239\u001b[0m \u001b[38;5;28;01mif\u001b[39;00m \u001b[38;5;28mself\u001b[39m\u001b[38;5;241m.\u001b[39minput_size \u001b[38;5;241m!=\u001b[39m \u001b[38;5;28minput\u001b[39m\u001b[38;5;241m.\u001b[39msize(\u001b[38;5;241m-\u001b[39m\u001b[38;5;241m1\u001b[39m):\n\u001b[1;32m--> 240\u001b[0m     \u001b[38;5;28;01mraise\u001b[39;00m \u001b[38;5;167;01mRuntimeError\u001b[39;00m(\n\u001b[0;32m    241\u001b[0m         \u001b[38;5;124mf\u001b[39m\u001b[38;5;124m'\u001b[39m\u001b[38;5;124minput.size(-1) must be equal to input_size. Expected \u001b[39m\u001b[38;5;132;01m{\u001b[39;00m\u001b[38;5;28mself\u001b[39m\u001b[38;5;241m.\u001b[39minput_size\u001b[38;5;132;01m}\u001b[39;00m\u001b[38;5;124m, got \u001b[39m\u001b[38;5;132;01m{\u001b[39;00m\u001b[38;5;28minput\u001b[39m\u001b[38;5;241m.\u001b[39msize(\u001b[38;5;241m-\u001b[39m\u001b[38;5;241m1\u001b[39m)\u001b[38;5;132;01m}\u001b[39;00m\u001b[38;5;124m'\u001b[39m)\n",
      "\u001b[1;31mRuntimeError\u001b[0m: input.size(-1) must be equal to input_size. Expected 64, got 32"
     ]
    }
   ],
   "source": [
    "import torch\n",
    "import torch.nn as nn\n",
    "import torch.optim as optim\n",
    "from torch.utils.data import DataLoader, TensorDataset\n",
    "from sklearn.metrics import accuracy_score, f1_score, recall_score\n",
    "import matplotlib.pyplot as plt\n",
    "from models import ComplexGRUModel,ComplexLSTMModel\n",
    "from visualizations import plot_DL_results\n",
    "\n",
    "# Verificar si hay GPUs disponibles\n",
    "device = torch.device(\"cuda\" if torch.cuda.is_available() else \"cpu\")\n",
    "\n",
    "if device.type == 'cuda':\n",
    "    print(f\"Entrenando en GPU: {torch.cuda.get_device_name(0)}\")\n",
    "else:\n",
    "    print(\"No hay GPUs disponibles. El entrenamiento se realizará en la CPU.\")\n",
    "\n",
    "\n",
    "\n",
    "# Inicialización del modelo\n",
    "model = ComplexLSTMModel(input_dim=X_train_padded.shape[2], \n",
    "                        hidden_dim1=64,   # Reducir el tamaño de las capas\n",
    "                        hidden_dim2=32, \n",
    "                        hidden_dim3=16, \n",
    "                        output_dim=10,dropout_rate=0.01).to(device)\n",
    "\"\"\"\n",
    "# Inicialización del modelo GRU\n",
    "model = ComplexGRUModel(input_dim=X_train_padded.shape[2], \n",
    "                        hidden_dim1=64,   # Reducir el tamaño de las capas\n",
    "                        hidden_dim2=32, \n",
    "                        hidden_dim3=16, \n",
    "                        output_dim=10,dropout_rate=0.01).to(device)\n",
    "\"\"\" \n",
    "\n",
    "# Definir el optimizador con regularización L2 (weight decay)\n",
    "optimizer = optim.Adam(model.parameters(), lr=0.00001)  # Agregar weight_decay\n",
    "criterion = nn.CrossEntropyLoss()\n",
    "\n",
    "# Preparación de datos (convertir etiquetas y inputs en tensores)\n",
    "y_train2 = torch.tensor(y_train).argmax(dim=1).to(device)\n",
    "train_data = TensorDataset(torch.tensor(X_train_padded, dtype=torch.float32).to(device), y_train2)\n",
    "train_loader = DataLoader(train_data, batch_size=32, shuffle=False)\n",
    "\n",
    "# Convertir X_test y y_test a tensores y moverlos a la GPU\n",
    "y_test2 = torch.tensor(y_test)  # Convertir de numpy.ndarray a torch.Tensor\n",
    "y_test2 = torch.argmax(y_test2, dim=1)  # Convertir a índices si es one-hot\n",
    "y_test2 = y_test2.to(device)  # Mover a la GPU\n",
    "\n",
    "# Crear el DataLoader para los datos de prueba\n",
    "test_data = TensorDataset(\n",
    "    torch.tensor(X_test_padded, dtype=torch.float32).to(device),  # Mover los datos de entrada de prueba a la GPU\n",
    "    y_test2  # Las etiquetas de prueba ya están en la GPU\n",
    ")\n",
    "test_loader = DataLoader(test_data, batch_size=32, shuffle=False)\n",
    "\n",
    "# Definición de la función de entrenamiento\n",
    "def train_model(model, train_loader, criterion, optimizer, epochs=20):\n",
    "    model.train()\n",
    "    train_losses = []\n",
    "    valid_losses = []\n",
    "    train_accuracies = []\n",
    "    train_f1_scores = []\n",
    "    train_recalls = []\n",
    "    valid_accuracies = []\n",
    "    valid_f1_scores = []\n",
    "    valid_recalls = []\n",
    "\n",
    "    for epoch in range(epochs):\n",
    "        running_loss = 0.0\n",
    "        all_labels = []\n",
    "        all_preds = []\n",
    "\n",
    "        # Entrenamiento\n",
    "        for inputs, labels in train_loader:\n",
    "            inputs, labels = inputs.to(device), labels.to(device)\n",
    "            optimizer.zero_grad()\n",
    "            outputs = model(inputs)\n",
    "            loss = criterion(outputs, labels)\n",
    "            loss.backward()\n",
    "            optimizer.step()\n",
    "\n",
    "            running_loss += loss.item()\n",
    "            _, preds = torch.max(outputs, 1)\n",
    "            all_labels.extend(labels.cpu().tolist())\n",
    "            all_preds.extend(preds.cpu().tolist())\n",
    "\n",
    "        epoch_loss = running_loss / len(train_loader)\n",
    "        epoch_accuracy = accuracy_score(all_labels, all_preds)\n",
    "        epoch_f1 = f1_score(all_labels, all_preds, average='weighted')\n",
    "        epoch_recall = recall_score(all_labels, all_preds, average='weighted')\n",
    "\n",
    "        # Guardar las métricas de entrenamiento\n",
    "        train_losses.append(epoch_loss)\n",
    "        train_accuracies.append(epoch_accuracy)\n",
    "        train_f1_scores.append(epoch_f1)\n",
    "        train_recalls.append(epoch_recall)\n",
    "\n",
    "        # Validación (usando el modelo en modo evaluación)\n",
    "        model.eval()\n",
    "        valid_loss = 0.0\n",
    "        valid_labels = []\n",
    "        valid_preds = []\n",
    "        with torch.no_grad():\n",
    "            for inputs, labels in test_loader:\n",
    "                inputs, labels = inputs.to(device), labels.to(device)\n",
    "                outputs = model(inputs)\n",
    "                loss = criterion(outputs, labels)\n",
    "                valid_loss += loss.item()\n",
    "                _, preds = torch.max(outputs, 1)\n",
    "                valid_labels.extend(labels.cpu().tolist())\n",
    "                valid_preds.extend(preds.cpu().tolist())\n",
    "\n",
    "            valid_loss = valid_loss / len(test_loader)\n",
    "            valid_accuracy = accuracy_score(valid_labels, valid_preds)\n",
    "            valid_f1 = f1_score(valid_labels, valid_preds, average='weighted')\n",
    "            valid_recall = recall_score(valid_labels, valid_preds, average='weighted')\n",
    "\n",
    "            # Guardar las métricas de validación\n",
    "            valid_losses.append(valid_loss)\n",
    "            valid_accuracies.append(valid_accuracy)\n",
    "            valid_f1_scores.append(valid_f1)\n",
    "            valid_recalls.append(valid_recall)\n",
    "\n",
    "        model.train()  # Volver al modo entrenamiento\n",
    "\n",
    "        print(f\"Epoch {epoch+1}/{epochs} - Loss: {epoch_loss:.4f} - Train Accuracy: {epoch_accuracy:.4f} - Train F1: {epoch_f1:.4f} - Train Recall: {epoch_recall:.4f} - Valid Loss: {valid_loss:.4f} - Valid Acc: {valid_accuracy:.4f}\")\n",
    "\n",
    "    return (train_losses, valid_losses, train_accuracies, train_f1_scores, train_recalls,\n",
    "            valid_accuracies, valid_f1_scores, valid_recalls)\n",
    "\n",
    "# Entrenar el modelo\n",
    "train_losses, valid_losses, train_accuracies, train_f1_scores, train_recalls, valid_accuracies, valid_f1_scores, valid_recalls = train_model(\n",
    "    model, train_loader, criterion, optimizer, epochs=20)\n",
    "\n",
    "# Graficar las métricas\n",
    "epochs_range = range(1, 21)\n",
    "\n",
    "\n",
    "# Llamada a la función para graficar los resultados\n",
    "plot_DL_results(\n",
    "    train_accuracies=train_accuracies,\n",
    "    valid_accuracies=valid_accuracies,\n",
    "    train_losses=train_losses,\n",
    "    valid_losses=valid_losses,\n",
    "    train_f1_scores=train_f1_scores,\n",
    "    valid_f1_scores=valid_f1_scores,\n",
    "    train_recalls=train_recalls,\n",
    "    valid_recalls=valid_recalls,\n",
    "    epochs_range=epochs_range\n",
    ")"
   ]
  },
  {
   "cell_type": "markdown",
   "metadata": {},
   "source": [
    "## **Convolutional Neural Networks(CNN)**"
   ]
  }
 ],
 "metadata": {
  "colab": {
   "provenance": []
  },
  "kernelspec": {
   "display_name": ".venv",
   "language": "python",
   "name": "python3"
  },
  "language_info": {
   "codemirror_mode": {
    "name": "ipython",
    "version": 3
   },
   "file_extension": ".py",
   "mimetype": "text/x-python",
   "name": "python",
   "nbconvert_exporter": "python",
   "pygments_lexer": "ipython3",
   "version": "3.9.13"
  }
 },
 "nbformat": 4,
 "nbformat_minor": 0
}
